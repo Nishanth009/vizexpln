{
 "cells": [
  {
   "cell_type": "code",
   "execution_count": 4,
   "id": "41b3caa2-1db4-4dd3-8b83-06f49a9d9a0b",
   "metadata": {
    "scrolled": true
   },
   "outputs": [
    {
     "name": "stdout",
     "output_type": "stream",
     "text": [
      "Requirement already satisfied: vizexpln in /Users/nishanthkc/PycharmProjects/easyDAT/.venv/lib/python3.12/site-packages (0.1.0)\n",
      "Requirement already satisfied: google-generativeai<0.9.0,>=0.8.3 in /Users/nishanthkc/PycharmProjects/easyDAT/.venv/lib/python3.12/site-packages (from vizexpln) (0.8.3)\n",
      "Requirement already satisfied: ipywidgets<9.0.0,>=8.1.5 in /Users/nishanthkc/PycharmProjects/easyDAT/.venv/lib/python3.12/site-packages (from vizexpln) (8.1.5)\n",
      "Requirement already satisfied: langchain<0.4.0,>=0.3.11 in /Users/nishanthkc/PycharmProjects/easyDAT/.venv/lib/python3.12/site-packages (from vizexpln) (0.3.11)\n",
      "Requirement already satisfied: langchain-community<0.4.0,>=0.3.11 in /Users/nishanthkc/PycharmProjects/easyDAT/.venv/lib/python3.12/site-packages (from vizexpln) (0.3.11)\n",
      "Requirement already satisfied: langchain-google-genai<3.0.0,>=2.0.7 in /Users/nishanthkc/PycharmProjects/easyDAT/.venv/lib/python3.12/site-packages (from vizexpln) (2.0.7)\n",
      "Requirement already satisfied: pandas<3.0.0,>=2.2.3 in /Users/nishanthkc/PycharmProjects/easyDAT/.venv/lib/python3.12/site-packages (from vizexpln) (2.2.3)\n",
      "Requirement already satisfied: pillow<12.0.0,>=11.0.0 in /Users/nishanthkc/PycharmProjects/easyDAT/.venv/lib/python3.12/site-packages (from vizexpln) (11.0.0)\n",
      "Requirement already satisfied: python-dotenv<2.0.0,>=1.0.1 in /Users/nishanthkc/PycharmProjects/easyDAT/.venv/lib/python3.12/site-packages (from vizexpln) (1.0.1)\n",
      "Requirement already satisfied: scikit-learn<2.0.0,>=1.5.2 in /Users/nishanthkc/PycharmProjects/easyDAT/.venv/lib/python3.12/site-packages (from vizexpln) (1.5.2)\n",
      "Requirement already satisfied: seaborn<0.14.0,>=0.13.2 in /Users/nishanthkc/PycharmProjects/easyDAT/.venv/lib/python3.12/site-packages (from vizexpln) (0.13.2)\n",
      "Requirement already satisfied: google-ai-generativelanguage==0.6.10 in /Users/nishanthkc/PycharmProjects/easyDAT/.venv/lib/python3.12/site-packages (from google-generativeai<0.9.0,>=0.8.3->vizexpln) (0.6.10)\n",
      "Requirement already satisfied: google-api-core in /Users/nishanthkc/PycharmProjects/easyDAT/.venv/lib/python3.12/site-packages (from google-generativeai<0.9.0,>=0.8.3->vizexpln) (2.23.0)\n",
      "Requirement already satisfied: google-api-python-client in /Users/nishanthkc/PycharmProjects/easyDAT/.venv/lib/python3.12/site-packages (from google-generativeai<0.9.0,>=0.8.3->vizexpln) (2.154.0)\n",
      "Requirement already satisfied: google-auth>=2.15.0 in /Users/nishanthkc/PycharmProjects/easyDAT/.venv/lib/python3.12/site-packages (from google-generativeai<0.9.0,>=0.8.3->vizexpln) (2.36.0)\n",
      "Requirement already satisfied: protobuf in /Users/nishanthkc/PycharmProjects/easyDAT/.venv/lib/python3.12/site-packages (from google-generativeai<0.9.0,>=0.8.3->vizexpln) (5.29.0)\n",
      "Requirement already satisfied: pydantic in /Users/nishanthkc/PycharmProjects/easyDAT/.venv/lib/python3.12/site-packages (from google-generativeai<0.9.0,>=0.8.3->vizexpln) (2.10.2)\n",
      "Requirement already satisfied: tqdm in /Users/nishanthkc/PycharmProjects/easyDAT/.venv/lib/python3.12/site-packages (from google-generativeai<0.9.0,>=0.8.3->vizexpln) (4.67.1)\n",
      "Requirement already satisfied: typing-extensions in /Users/nishanthkc/PycharmProjects/easyDAT/.venv/lib/python3.12/site-packages (from google-generativeai<0.9.0,>=0.8.3->vizexpln) (4.12.2)\n",
      "Requirement already satisfied: proto-plus<2.0.0dev,>=1.22.3 in /Users/nishanthkc/PycharmProjects/easyDAT/.venv/lib/python3.12/site-packages (from google-ai-generativelanguage==0.6.10->google-generativeai<0.9.0,>=0.8.3->vizexpln) (1.25.0)\n",
      "Requirement already satisfied: comm>=0.1.3 in /Users/nishanthkc/PycharmProjects/easyDAT/.venv/lib/python3.12/site-packages (from ipywidgets<9.0.0,>=8.1.5->vizexpln) (0.2.2)\n",
      "Requirement already satisfied: ipython>=6.1.0 in /Users/nishanthkc/PycharmProjects/easyDAT/.venv/lib/python3.12/site-packages (from ipywidgets<9.0.0,>=8.1.5->vizexpln) (8.29.0)\n",
      "Requirement already satisfied: traitlets>=4.3.1 in /Users/nishanthkc/PycharmProjects/easyDAT/.venv/lib/python3.12/site-packages (from ipywidgets<9.0.0,>=8.1.5->vizexpln) (5.14.3)\n",
      "Requirement already satisfied: widgetsnbextension~=4.0.12 in /Users/nishanthkc/PycharmProjects/easyDAT/.venv/lib/python3.12/site-packages (from ipywidgets<9.0.0,>=8.1.5->vizexpln) (4.0.13)\n",
      "Requirement already satisfied: jupyterlab-widgets~=3.0.12 in /Users/nishanthkc/PycharmProjects/easyDAT/.venv/lib/python3.12/site-packages (from ipywidgets<9.0.0,>=8.1.5->vizexpln) (3.0.13)\n",
      "Requirement already satisfied: PyYAML>=5.3 in /Users/nishanthkc/PycharmProjects/easyDAT/.venv/lib/python3.12/site-packages (from langchain<0.4.0,>=0.3.11->vizexpln) (6.0.2)\n",
      "Requirement already satisfied: SQLAlchemy<3,>=1.4 in /Users/nishanthkc/PycharmProjects/easyDAT/.venv/lib/python3.12/site-packages (from langchain<0.4.0,>=0.3.11->vizexpln) (2.0.36)\n",
      "Requirement already satisfied: aiohttp<4.0.0,>=3.8.3 in /Users/nishanthkc/PycharmProjects/easyDAT/.venv/lib/python3.12/site-packages (from langchain<0.4.0,>=0.3.11->vizexpln) (3.11.10)\n",
      "Requirement already satisfied: langchain-core<0.4.0,>=0.3.24 in /Users/nishanthkc/PycharmProjects/easyDAT/.venv/lib/python3.12/site-packages (from langchain<0.4.0,>=0.3.11->vizexpln) (0.3.25)\n",
      "Requirement already satisfied: langchain-text-splitters<0.4.0,>=0.3.0 in /Users/nishanthkc/PycharmProjects/easyDAT/.venv/lib/python3.12/site-packages (from langchain<0.4.0,>=0.3.11->vizexpln) (0.3.2)\n",
      "Requirement already satisfied: langsmith<0.3,>=0.1.17 in /Users/nishanthkc/PycharmProjects/easyDAT/.venv/lib/python3.12/site-packages (from langchain<0.4.0,>=0.3.11->vizexpln) (0.2.3)\n",
      "Requirement already satisfied: numpy<3,>=1.26.2 in /Users/nishanthkc/PycharmProjects/easyDAT/.venv/lib/python3.12/site-packages (from langchain<0.4.0,>=0.3.11->vizexpln) (2.1.3)\n",
      "Requirement already satisfied: requests<3,>=2 in /Users/nishanthkc/PycharmProjects/easyDAT/.venv/lib/python3.12/site-packages (from langchain<0.4.0,>=0.3.11->vizexpln) (2.32.3)\n",
      "Requirement already satisfied: tenacity!=8.4.0,<10,>=8.1.0 in /Users/nishanthkc/PycharmProjects/easyDAT/.venv/lib/python3.12/site-packages (from langchain<0.4.0,>=0.3.11->vizexpln) (9.0.0)\n",
      "Requirement already satisfied: dataclasses-json<0.7,>=0.5.7 in /Users/nishanthkc/PycharmProjects/easyDAT/.venv/lib/python3.12/site-packages (from langchain-community<0.4.0,>=0.3.11->vizexpln) (0.6.7)\n",
      "Requirement already satisfied: httpx-sse<0.5.0,>=0.4.0 in /Users/nishanthkc/PycharmProjects/easyDAT/.venv/lib/python3.12/site-packages (from langchain-community<0.4.0,>=0.3.11->vizexpln) (0.4.0)\n",
      "Requirement already satisfied: pydantic-settings<3.0.0,>=2.4.0 in /Users/nishanthkc/PycharmProjects/easyDAT/.venv/lib/python3.12/site-packages (from langchain-community<0.4.0,>=0.3.11->vizexpln) (2.7.0)\n",
      "Requirement already satisfied: filetype<2.0.0,>=1.2.0 in /Users/nishanthkc/PycharmProjects/easyDAT/.venv/lib/python3.12/site-packages (from langchain-google-genai<3.0.0,>=2.0.7->vizexpln) (1.2.0)\n",
      "Requirement already satisfied: python-dateutil>=2.8.2 in /Users/nishanthkc/PycharmProjects/easyDAT/.venv/lib/python3.12/site-packages (from pandas<3.0.0,>=2.2.3->vizexpln) (2.9.0.post0)\n",
      "Requirement already satisfied: pytz>=2020.1 in /Users/nishanthkc/PycharmProjects/easyDAT/.venv/lib/python3.12/site-packages (from pandas<3.0.0,>=2.2.3->vizexpln) (2024.2)\n",
      "Requirement already satisfied: tzdata>=2022.7 in /Users/nishanthkc/PycharmProjects/easyDAT/.venv/lib/python3.12/site-packages (from pandas<3.0.0,>=2.2.3->vizexpln) (2024.2)\n",
      "Requirement already satisfied: scipy>=1.6.0 in /Users/nishanthkc/PycharmProjects/easyDAT/.venv/lib/python3.12/site-packages (from scikit-learn<2.0.0,>=1.5.2->vizexpln) (1.14.1)\n",
      "Requirement already satisfied: joblib>=1.2.0 in /Users/nishanthkc/PycharmProjects/easyDAT/.venv/lib/python3.12/site-packages (from scikit-learn<2.0.0,>=1.5.2->vizexpln) (1.4.2)\n",
      "Requirement already satisfied: threadpoolctl>=3.1.0 in /Users/nishanthkc/PycharmProjects/easyDAT/.venv/lib/python3.12/site-packages (from scikit-learn<2.0.0,>=1.5.2->vizexpln) (3.5.0)\n",
      "Requirement already satisfied: matplotlib!=3.6.1,>=3.4 in /Users/nishanthkc/PycharmProjects/easyDAT/.venv/lib/python3.12/site-packages (from seaborn<0.14.0,>=0.13.2->vizexpln) (3.9.2)\n",
      "Requirement already satisfied: aiohappyeyeballs>=2.3.0 in /Users/nishanthkc/PycharmProjects/easyDAT/.venv/lib/python3.12/site-packages (from aiohttp<4.0.0,>=3.8.3->langchain<0.4.0,>=0.3.11->vizexpln) (2.4.4)\n",
      "Requirement already satisfied: aiosignal>=1.1.2 in /Users/nishanthkc/PycharmProjects/easyDAT/.venv/lib/python3.12/site-packages (from aiohttp<4.0.0,>=3.8.3->langchain<0.4.0,>=0.3.11->vizexpln) (1.3.2)\n",
      "Requirement already satisfied: attrs>=17.3.0 in /Users/nishanthkc/PycharmProjects/easyDAT/.venv/lib/python3.12/site-packages (from aiohttp<4.0.0,>=3.8.3->langchain<0.4.0,>=0.3.11->vizexpln) (24.2.0)\n",
      "Requirement already satisfied: frozenlist>=1.1.1 in /Users/nishanthkc/PycharmProjects/easyDAT/.venv/lib/python3.12/site-packages (from aiohttp<4.0.0,>=3.8.3->langchain<0.4.0,>=0.3.11->vizexpln) (1.5.0)\n",
      "Requirement already satisfied: multidict<7.0,>=4.5 in /Users/nishanthkc/PycharmProjects/easyDAT/.venv/lib/python3.12/site-packages (from aiohttp<4.0.0,>=3.8.3->langchain<0.4.0,>=0.3.11->vizexpln) (6.1.0)\n",
      "Requirement already satisfied: propcache>=0.2.0 in /Users/nishanthkc/PycharmProjects/easyDAT/.venv/lib/python3.12/site-packages (from aiohttp<4.0.0,>=3.8.3->langchain<0.4.0,>=0.3.11->vizexpln) (0.2.1)\n",
      "Requirement already satisfied: yarl<2.0,>=1.17.0 in /Users/nishanthkc/PycharmProjects/easyDAT/.venv/lib/python3.12/site-packages (from aiohttp<4.0.0,>=3.8.3->langchain<0.4.0,>=0.3.11->vizexpln) (1.18.3)\n",
      "Requirement already satisfied: marshmallow<4.0.0,>=3.18.0 in /Users/nishanthkc/PycharmProjects/easyDAT/.venv/lib/python3.12/site-packages (from dataclasses-json<0.7,>=0.5.7->langchain-community<0.4.0,>=0.3.11->vizexpln) (3.23.1)\n",
      "Requirement already satisfied: typing-inspect<1,>=0.4.0 in /Users/nishanthkc/PycharmProjects/easyDAT/.venv/lib/python3.12/site-packages (from dataclasses-json<0.7,>=0.5.7->langchain-community<0.4.0,>=0.3.11->vizexpln) (0.9.0)\n",
      "Requirement already satisfied: cachetools<6.0,>=2.0.0 in /Users/nishanthkc/PycharmProjects/easyDAT/.venv/lib/python3.12/site-packages (from google-auth>=2.15.0->google-generativeai<0.9.0,>=0.8.3->vizexpln) (5.5.0)\n",
      "Requirement already satisfied: pyasn1-modules>=0.2.1 in /Users/nishanthkc/PycharmProjects/easyDAT/.venv/lib/python3.12/site-packages (from google-auth>=2.15.0->google-generativeai<0.9.0,>=0.8.3->vizexpln) (0.4.1)\n",
      "Requirement already satisfied: rsa<5,>=3.1.4 in /Users/nishanthkc/PycharmProjects/easyDAT/.venv/lib/python3.12/site-packages (from google-auth>=2.15.0->google-generativeai<0.9.0,>=0.8.3->vizexpln) (4.9)\n",
      "Requirement already satisfied: decorator in /Users/nishanthkc/PycharmProjects/easyDAT/.venv/lib/python3.12/site-packages (from ipython>=6.1.0->ipywidgets<9.0.0,>=8.1.5->vizexpln) (5.1.1)\n",
      "Requirement already satisfied: jedi>=0.16 in /Users/nishanthkc/PycharmProjects/easyDAT/.venv/lib/python3.12/site-packages (from ipython>=6.1.0->ipywidgets<9.0.0,>=8.1.5->vizexpln) (0.19.2)\n",
      "Requirement already satisfied: matplotlib-inline in /Users/nishanthkc/PycharmProjects/easyDAT/.venv/lib/python3.12/site-packages (from ipython>=6.1.0->ipywidgets<9.0.0,>=8.1.5->vizexpln) (0.1.7)\n",
      "Requirement already satisfied: prompt-toolkit<3.1.0,>=3.0.41 in /Users/nishanthkc/PycharmProjects/easyDAT/.venv/lib/python3.12/site-packages (from ipython>=6.1.0->ipywidgets<9.0.0,>=8.1.5->vizexpln) (3.0.48)\n",
      "Requirement already satisfied: pygments>=2.4.0 in /Users/nishanthkc/PycharmProjects/easyDAT/.venv/lib/python3.12/site-packages (from ipython>=6.1.0->ipywidgets<9.0.0,>=8.1.5->vizexpln) (2.18.0)\n",
      "Requirement already satisfied: stack-data in /Users/nishanthkc/PycharmProjects/easyDAT/.venv/lib/python3.12/site-packages (from ipython>=6.1.0->ipywidgets<9.0.0,>=8.1.5->vizexpln) (0.6.3)\n",
      "Requirement already satisfied: pexpect>4.3 in /Users/nishanthkc/PycharmProjects/easyDAT/.venv/lib/python3.12/site-packages (from ipython>=6.1.0->ipywidgets<9.0.0,>=8.1.5->vizexpln) (4.9.0)\n",
      "Requirement already satisfied: jsonpatch<2.0,>=1.33 in /Users/nishanthkc/PycharmProjects/easyDAT/.venv/lib/python3.12/site-packages (from langchain-core<0.4.0,>=0.3.24->langchain<0.4.0,>=0.3.11->vizexpln) (1.33)\n",
      "Requirement already satisfied: packaging<25,>=23.2 in /Users/nishanthkc/PycharmProjects/easyDAT/.venv/lib/python3.12/site-packages (from langchain-core<0.4.0,>=0.3.24->langchain<0.4.0,>=0.3.11->vizexpln) (24.2)\n",
      "Requirement already satisfied: httpx<1,>=0.23.0 in /Users/nishanthkc/PycharmProjects/easyDAT/.venv/lib/python3.12/site-packages (from langsmith<0.3,>=0.1.17->langchain<0.4.0,>=0.3.11->vizexpln) (0.28.1)\n",
      "Requirement already satisfied: orjson<4.0.0,>=3.9.14 in /Users/nishanthkc/PycharmProjects/easyDAT/.venv/lib/python3.12/site-packages (from langsmith<0.3,>=0.1.17->langchain<0.4.0,>=0.3.11->vizexpln) (3.10.12)\n",
      "Requirement already satisfied: requests-toolbelt<2.0.0,>=1.0.0 in /Users/nishanthkc/PycharmProjects/easyDAT/.venv/lib/python3.12/site-packages (from langsmith<0.3,>=0.1.17->langchain<0.4.0,>=0.3.11->vizexpln) (1.0.0)\n",
      "Requirement already satisfied: contourpy>=1.0.1 in /Users/nishanthkc/PycharmProjects/easyDAT/.venv/lib/python3.12/site-packages (from matplotlib!=3.6.1,>=3.4->seaborn<0.14.0,>=0.13.2->vizexpln) (1.3.1)\n",
      "Requirement already satisfied: cycler>=0.10 in /Users/nishanthkc/PycharmProjects/easyDAT/.venv/lib/python3.12/site-packages (from matplotlib!=3.6.1,>=3.4->seaborn<0.14.0,>=0.13.2->vizexpln) (0.12.1)\n",
      "Requirement already satisfied: fonttools>=4.22.0 in /Users/nishanthkc/PycharmProjects/easyDAT/.venv/lib/python3.12/site-packages (from matplotlib!=3.6.1,>=3.4->seaborn<0.14.0,>=0.13.2->vizexpln) (4.55.0)\n",
      "Requirement already satisfied: kiwisolver>=1.3.1 in /Users/nishanthkc/PycharmProjects/easyDAT/.venv/lib/python3.12/site-packages (from matplotlib!=3.6.1,>=3.4->seaborn<0.14.0,>=0.13.2->vizexpln) (1.4.7)\n",
      "Requirement already satisfied: pyparsing>=2.3.1 in /Users/nishanthkc/PycharmProjects/easyDAT/.venv/lib/python3.12/site-packages (from matplotlib!=3.6.1,>=3.4->seaborn<0.14.0,>=0.13.2->vizexpln) (3.2.0)\n",
      "Requirement already satisfied: annotated-types>=0.6.0 in /Users/nishanthkc/PycharmProjects/easyDAT/.venv/lib/python3.12/site-packages (from pydantic->google-generativeai<0.9.0,>=0.8.3->vizexpln) (0.7.0)\n",
      "Requirement already satisfied: pydantic-core==2.27.1 in /Users/nishanthkc/PycharmProjects/easyDAT/.venv/lib/python3.12/site-packages (from pydantic->google-generativeai<0.9.0,>=0.8.3->vizexpln) (2.27.1)\n",
      "Requirement already satisfied: six>=1.5 in /Users/nishanthkc/PycharmProjects/easyDAT/.venv/lib/python3.12/site-packages (from python-dateutil>=2.8.2->pandas<3.0.0,>=2.2.3->vizexpln) (1.16.0)\n",
      "Requirement already satisfied: charset-normalizer<4,>=2 in /Users/nishanthkc/PycharmProjects/easyDAT/.venv/lib/python3.12/site-packages (from requests<3,>=2->langchain<0.4.0,>=0.3.11->vizexpln) (3.4.0)\n",
      "Requirement already satisfied: idna<4,>=2.5 in /Users/nishanthkc/PycharmProjects/easyDAT/.venv/lib/python3.12/site-packages (from requests<3,>=2->langchain<0.4.0,>=0.3.11->vizexpln) (3.10)\n",
      "Requirement already satisfied: urllib3<3,>=1.21.1 in /Users/nishanthkc/PycharmProjects/easyDAT/.venv/lib/python3.12/site-packages (from requests<3,>=2->langchain<0.4.0,>=0.3.11->vizexpln) (2.2.3)\n",
      "Requirement already satisfied: certifi>=2017.4.17 in /Users/nishanthkc/PycharmProjects/easyDAT/.venv/lib/python3.12/site-packages (from requests<3,>=2->langchain<0.4.0,>=0.3.11->vizexpln) (2024.8.30)\n",
      "Requirement already satisfied: googleapis-common-protos<2.0.dev0,>=1.56.2 in /Users/nishanthkc/PycharmProjects/easyDAT/.venv/lib/python3.12/site-packages (from google-api-core->google-generativeai<0.9.0,>=0.8.3->vizexpln) (1.66.0)\n",
      "Requirement already satisfied: httplib2<1.dev0,>=0.19.0 in /Users/nishanthkc/PycharmProjects/easyDAT/.venv/lib/python3.12/site-packages (from google-api-python-client->google-generativeai<0.9.0,>=0.8.3->vizexpln) (0.22.0)\n",
      "Requirement already satisfied: google-auth-httplib2<1.0.0,>=0.2.0 in /Users/nishanthkc/PycharmProjects/easyDAT/.venv/lib/python3.12/site-packages (from google-api-python-client->google-generativeai<0.9.0,>=0.8.3->vizexpln) (0.2.0)\n",
      "Requirement already satisfied: uritemplate<5,>=3.0.1 in /Users/nishanthkc/PycharmProjects/easyDAT/.venv/lib/python3.12/site-packages (from google-api-python-client->google-generativeai<0.9.0,>=0.8.3->vizexpln) (4.1.1)\n",
      "Requirement already satisfied: grpcio<2.0dev,>=1.33.2 in /Users/nishanthkc/PycharmProjects/easyDAT/.venv/lib/python3.12/site-packages (from google-api-core->google-generativeai<0.9.0,>=0.8.3->vizexpln) (1.68.0)\n",
      "Requirement already satisfied: grpcio-status<2.0.dev0,>=1.33.2 in /Users/nishanthkc/PycharmProjects/easyDAT/.venv/lib/python3.12/site-packages (from google-api-core->google-generativeai<0.9.0,>=0.8.3->vizexpln) (1.68.0)\n",
      "Requirement already satisfied: anyio in /Users/nishanthkc/PycharmProjects/easyDAT/.venv/lib/python3.12/site-packages (from httpx<1,>=0.23.0->langsmith<0.3,>=0.1.17->langchain<0.4.0,>=0.3.11->vizexpln) (4.7.0)\n",
      "Requirement already satisfied: httpcore==1.* in /Users/nishanthkc/PycharmProjects/easyDAT/.venv/lib/python3.12/site-packages (from httpx<1,>=0.23.0->langsmith<0.3,>=0.1.17->langchain<0.4.0,>=0.3.11->vizexpln) (1.0.7)\n",
      "Requirement already satisfied: h11<0.15,>=0.13 in /Users/nishanthkc/PycharmProjects/easyDAT/.venv/lib/python3.12/site-packages (from httpcore==1.*->httpx<1,>=0.23.0->langsmith<0.3,>=0.1.17->langchain<0.4.0,>=0.3.11->vizexpln) (0.14.0)\n",
      "Requirement already satisfied: parso<0.9.0,>=0.8.4 in /Users/nishanthkc/PycharmProjects/easyDAT/.venv/lib/python3.12/site-packages (from jedi>=0.16->ipython>=6.1.0->ipywidgets<9.0.0,>=8.1.5->vizexpln) (0.8.4)\n",
      "Requirement already satisfied: jsonpointer>=1.9 in /Users/nishanthkc/PycharmProjects/easyDAT/.venv/lib/python3.12/site-packages (from jsonpatch<2.0,>=1.33->langchain-core<0.4.0,>=0.3.24->langchain<0.4.0,>=0.3.11->vizexpln) (3.0.0)\n",
      "Requirement already satisfied: ptyprocess>=0.5 in /Users/nishanthkc/PycharmProjects/easyDAT/.venv/lib/python3.12/site-packages (from pexpect>4.3->ipython>=6.1.0->ipywidgets<9.0.0,>=8.1.5->vizexpln) (0.7.0)\n",
      "Requirement already satisfied: wcwidth in /Users/nishanthkc/PycharmProjects/easyDAT/.venv/lib/python3.12/site-packages (from prompt-toolkit<3.1.0,>=3.0.41->ipython>=6.1.0->ipywidgets<9.0.0,>=8.1.5->vizexpln) (0.2.13)\n",
      "Requirement already satisfied: pyasn1<0.7.0,>=0.4.6 in /Users/nishanthkc/PycharmProjects/easyDAT/.venv/lib/python3.12/site-packages (from pyasn1-modules>=0.2.1->google-auth>=2.15.0->google-generativeai<0.9.0,>=0.8.3->vizexpln) (0.6.1)\n",
      "Requirement already satisfied: mypy-extensions>=0.3.0 in /Users/nishanthkc/PycharmProjects/easyDAT/.venv/lib/python3.12/site-packages (from typing-inspect<1,>=0.4.0->dataclasses-json<0.7,>=0.5.7->langchain-community<0.4.0,>=0.3.11->vizexpln) (1.0.0)\n",
      "Requirement already satisfied: executing>=1.2.0 in /Users/nishanthkc/PycharmProjects/easyDAT/.venv/lib/python3.12/site-packages (from stack-data->ipython>=6.1.0->ipywidgets<9.0.0,>=8.1.5->vizexpln) (2.1.0)\n",
      "Requirement already satisfied: asttokens>=2.1.0 in /Users/nishanthkc/PycharmProjects/easyDAT/.venv/lib/python3.12/site-packages (from stack-data->ipython>=6.1.0->ipywidgets<9.0.0,>=8.1.5->vizexpln) (2.4.1)\n",
      "Requirement already satisfied: pure-eval in /Users/nishanthkc/PycharmProjects/easyDAT/.venv/lib/python3.12/site-packages (from stack-data->ipython>=6.1.0->ipywidgets<9.0.0,>=8.1.5->vizexpln) (0.2.3)\n",
      "Requirement already satisfied: sniffio>=1.1 in /Users/nishanthkc/PycharmProjects/easyDAT/.venv/lib/python3.12/site-packages (from anyio->httpx<1,>=0.23.0->langsmith<0.3,>=0.1.17->langchain<0.4.0,>=0.3.11->vizexpln) (1.3.1)\n",
      "\n",
      "\u001b[1m[\u001b[0m\u001b[34;49mnotice\u001b[0m\u001b[1;39;49m]\u001b[0m\u001b[39;49m A new release of pip is available: \u001b[0m\u001b[31;49m23.2.1\u001b[0m\u001b[39;49m -> \u001b[0m\u001b[32;49m24.3.1\u001b[0m\n",
      "\u001b[1m[\u001b[0m\u001b[34;49mnotice\u001b[0m\u001b[1;39;49m]\u001b[0m\u001b[39;49m To update, run: \u001b[0m\u001b[32;49mpip install --upgrade pip\u001b[0m\n"
     ]
    }
   ],
   "source": [
    "!pip install vizexpln"
   ]
  },
  {
   "cell_type": "code",
   "execution_count": 2,
   "id": "54862596-b046-4751-8a2c-a7aec7c81264",
   "metadata": {},
   "outputs": [
    {
     "data": {
      "application/vnd.jupyter.widget-view+json": {
       "model_id": "96efd8672f654b729566d83f19049beb",
       "version_major": 2,
       "version_minor": 0
      },
      "text/plain": [
       "VBox(children=(HBox(children=(Dropdown(description='Analysis Type:', options=('Single Feature', 'Multi Feature…"
      ]
     },
     "metadata": {},
     "output_type": "display_data"
    }
   ],
   "source": [
    "import pandas as pd\n",
    "from vizexpln.UI import VizUI\n",
    "\n",
    "# Load a Pandas DataFrame from a CSV file\n",
    "df = pd.read_csv(\"../../train.csv\")\n",
    "\n",
    "# Create an instance of the AnalysisUI class\n",
    "ui = VizUI(df)\n",
    "\n",
    "# Show the user interface\n",
    "ui.show()"
   ]
  },
  {
   "cell_type": "code",
   "execution_count": null,
   "id": "41db118e-b5af-4933-badd-a510e4ca4f8b",
   "metadata": {},
   "outputs": [],
   "source": []
  }
 ],
 "metadata": {
  "kernelspec": {
   "display_name": "Python 3 (ipykernel)",
   "language": "python",
   "name": "python3"
  },
  "language_info": {
   "codemirror_mode": {
    "name": "ipython",
    "version": 3
   },
   "file_extension": ".py",
   "mimetype": "text/x-python",
   "name": "python",
   "nbconvert_exporter": "python",
   "pygments_lexer": "ipython3",
   "version": "3.12.3"
  }
 },
 "nbformat": 4,
 "nbformat_minor": 5
}
